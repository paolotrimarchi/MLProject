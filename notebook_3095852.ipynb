{
  "nbformat": 4,
  "nbformat_minor": 0,
  "metadata": {
    "kernelspec": {
      "display_name": "Python 3",
      "language": "python",
      "name": "python3"
    },
    "language_info": {
      "codemirror_mode": {
        "name": "ipython",
        "version": 3
      },
      "file_extension": ".py",
      "mimetype": "text/x-python",
      "name": "python",
      "nbconvert_exporter": "python",
      "pygments_lexer": "ipython3",
      "version": "3.7.10"
    },
    "colab": {
      "provenance": []
    }
  },
  "cells": [
    {
      "cell_type": "markdown",
      "metadata": {
        "id": "MuSva0UvvFe-"
      },
      "source": [
        "<br><br>\n",
        "<center><font size=\"6\">Paolo Trimarchi, 3095852</font> </center> <br><br>\n",
        "<center><font size=\"3\">16 May 2021</font> </center>\n"
      ]
    },
    {
      "cell_type": "markdown",
      "metadata": {
        "id": "TIbXPv5jvFfA"
      },
      "source": [
        "This dataset is composed of 1400 samples with 20 features each. The first column\n",
        "is the sample id. The second column in the dataset represents the label. There\n",
        "are 2 possible values for the labels. The remaining columns are numeric\n",
        "features.\n",
        "\n",
        "Your task is the following: you should compare the performance of the\n",
        "k-NearestNeighbors algorithm (implemented by\n",
        "sklearn.neighbors.KNeighborsClassifier) with that of Logistic Regression\n",
        "(implemented by sklearn.linear_model.LogisticRegression). Try to optimize both\n",
        "algorithms' parameters and determine which one is best for this dataset. At the\n",
        "end of the analysis, you should have chosen an algorithm and its optimal set of\n",
        "parameters: write this choice explicitly in the conclusions of your notebook.\n",
        "\n",
        "Your notebook should detail the procedure you have used to choose the optimal\n",
        "parameters (graphs are a good idea when possible/sensible).\n",
        "\n",
        "The notebook will be evaluated not only based on the final results, but also on\n",
        "the procedure employed, which should balance practical considerations (one may\n",
        "not be able to exhaustively explore all possible combinations of the parameters)\n",
        "with the desire for achieving the best possible performance in the least amount\n",
        "of time.\n",
        "\n",
        "Bonus points may be assigned for particularly clean/nifty code and/or well-\n",
        "presented results.\n",
        "\n",
        "You are also free to attempt other strategies beyond the one in the assignment\n",
        "(which however is mandatory!)."
      ]
    },
    {
      "cell_type": "markdown",
      "metadata": {
        "id": "5CxI7MrEZwAo"
      },
      "source": [
        "# 1. DATA"
      ]
    },
    {
      "cell_type": "code",
      "metadata": {
        "scrolled": true,
        "id": "XoxpSmjevFfB"
      },
      "source": [
        "import sklearn\n",
        "import os\n",
        "import numpy as np\n",
        "import pandas as pd\n",
        "import matplotlib.pyplot as plt\n",
        "from sklearn.metrics import mean_squared_error, accuracy_score, f1_score, roc_auc_score\n",
        "from sklearn.preprocessing import StandardScaler, Normalizer, RobustScaler,MaxAbsScaler\n",
        "\n",
        "from sklearn.linear_model import LogisticRegression\n",
        "from sklearn.ensemble import RandomForestClassifier, VotingClassifier, StackingClassifier\n",
        "from sklearn.model_selection import cross_val_score\n",
        "\n",
        "from pandas.plotting import scatter_matrix\n",
        "from pandas import DataFrame\n",
        "import seaborn as sns\n",
        "\n",
        "from sklearn.pipeline import Pipeline\n",
        "\n",
        "from sklearn.neighbors import KNeighborsClassifier\n",
        "\n",
        "from sklearn.model_selection import train_test_split\n",
        "\n",
        "from sklearn.decomposition import PCA\n",
        "\n",
        "from sklearn.model_selection import GridSearchCV\n",
        "\n",
        "\n",
        "\n",
        "\n",
        "%matplotlib inline"
      ],
      "execution_count": null,
      "outputs": []
    },
    {
      "cell_type": "code",
      "metadata": {
        "colab": {
          "base_uri": "https://localhost:8080/"
        },
        "id": "VlxEaAU3vK50",
        "outputId": "492a6158-961f-4e77-a4ab-fce77b4f1f68"
      },
      "source": [
        "from google.colab import drive\n",
        "\n",
        "drive.mount('/content/drive')"
      ],
      "execution_count": null,
      "outputs": [
        {
          "output_type": "stream",
          "text": [
            "Mounted at /content/drive\n"
          ],
          "name": "stdout"
        }
      ]
    },
    {
      "cell_type": "code",
      "metadata": {
        "id": "bb5e2u-9vh3I"
      },
      "source": [
        "import os\n",
        "os.chdir('/content/drive/MyDrive/ML/mldata_0003095852')"
      ],
      "execution_count": null,
      "outputs": []
    },
    {
      "cell_type": "code",
      "metadata": {
        "id": "LEdY8KJsvFfC"
      },
      "source": [
        "df= pd.read_csv(\"mldata_0003095852.csv\")"
      ],
      "execution_count": null,
      "outputs": []
    },
    {
      "cell_type": "code",
      "metadata": {
        "colab": {
          "base_uri": "https://localhost:8080/",
          "height": 240
        },
        "id": "BBlJNaYtvFfC",
        "outputId": "1cb60d59-a903-4319-a933-4d11565c266c"
      },
      "source": [
        "df.head()"
      ],
      "execution_count": null,
      "outputs": [
        {
          "output_type": "execute_result",
          "data": {
            "text/html": [
              "<div>\n",
              "<style scoped>\n",
              "    .dataframe tbody tr th:only-of-type {\n",
              "        vertical-align: middle;\n",
              "    }\n",
              "\n",
              "    .dataframe tbody tr th {\n",
              "        vertical-align: top;\n",
              "    }\n",
              "\n",
              "    .dataframe thead th {\n",
              "        text-align: right;\n",
              "    }\n",
              "</style>\n",
              "<table border=\"1\" class=\"dataframe\">\n",
              "  <thead>\n",
              "    <tr style=\"text-align: right;\">\n",
              "      <th></th>\n",
              "      <th>Unnamed: 0</th>\n",
              "      <th>label</th>\n",
              "      <th>feature_1</th>\n",
              "      <th>feature_2</th>\n",
              "      <th>feature_3</th>\n",
              "      <th>feature_4</th>\n",
              "      <th>feature_5</th>\n",
              "      <th>feature_6</th>\n",
              "      <th>feature_7</th>\n",
              "      <th>feature_8</th>\n",
              "      <th>feature_9</th>\n",
              "      <th>feature_10</th>\n",
              "      <th>feature_11</th>\n",
              "      <th>feature_12</th>\n",
              "      <th>feature_13</th>\n",
              "      <th>feature_14</th>\n",
              "      <th>feature_15</th>\n",
              "      <th>feature_16</th>\n",
              "      <th>feature_17</th>\n",
              "      <th>feature_18</th>\n",
              "      <th>feature_19</th>\n",
              "      <th>feature_20</th>\n",
              "    </tr>\n",
              "  </thead>\n",
              "  <tbody>\n",
              "    <tr>\n",
              "      <th>0</th>\n",
              "      <td>0</td>\n",
              "      <td>1</td>\n",
              "      <td>0.595524</td>\n",
              "      <td>-1.852193</td>\n",
              "      <td>-2.537769</td>\n",
              "      <td>1.344636</td>\n",
              "      <td>1.946390</td>\n",
              "      <td>-1.061598</td>\n",
              "      <td>-0.245629</td>\n",
              "      <td>-0.265525</td>\n",
              "      <td>0.439115</td>\n",
              "      <td>0.484402</td>\n",
              "      <td>-1.515500</td>\n",
              "      <td>-1.503631</td>\n",
              "      <td>-0.462352</td>\n",
              "      <td>-0.176772</td>\n",
              "      <td>1.946390</td>\n",
              "      <td>0.681144</td>\n",
              "      <td>1.698898</td>\n",
              "      <td>-0.378226</td>\n",
              "      <td>0.665294</td>\n",
              "      <td>-0.706543</td>\n",
              "    </tr>\n",
              "    <tr>\n",
              "      <th>1</th>\n",
              "      <td>1</td>\n",
              "      <td>0</td>\n",
              "      <td>0.414170</td>\n",
              "      <td>3.274759</td>\n",
              "      <td>3.582406</td>\n",
              "      <td>0.796513</td>\n",
              "      <td>-1.611388</td>\n",
              "      <td>-0.087801</td>\n",
              "      <td>-1.519245</td>\n",
              "      <td>-0.447901</td>\n",
              "      <td>1.030765</td>\n",
              "      <td>-2.275793</td>\n",
              "      <td>1.121997</td>\n",
              "      <td>-0.881878</td>\n",
              "      <td>-1.340327</td>\n",
              "      <td>1.158944</td>\n",
              "      <td>-1.611388</td>\n",
              "      <td>0.325059</td>\n",
              "      <td>1.293144</td>\n",
              "      <td>-0.962637</td>\n",
              "      <td>-2.396815</td>\n",
              "      <td>-1.608863</td>\n",
              "    </tr>\n",
              "    <tr>\n",
              "      <th>2</th>\n",
              "      <td>2</td>\n",
              "      <td>0</td>\n",
              "      <td>-1.384893</td>\n",
              "      <td>-0.288620</td>\n",
              "      <td>0.180551</td>\n",
              "      <td>0.347454</td>\n",
              "      <td>-1.886910</td>\n",
              "      <td>0.633000</td>\n",
              "      <td>-0.211776</td>\n",
              "      <td>1.471077</td>\n",
              "      <td>-0.131668</td>\n",
              "      <td>0.677660</td>\n",
              "      <td>0.512788</td>\n",
              "      <td>1.158950</td>\n",
              "      <td>-1.390083</td>\n",
              "      <td>-0.275056</td>\n",
              "      <td>-1.886910</td>\n",
              "      <td>-0.885853</td>\n",
              "      <td>0.404435</td>\n",
              "      <td>1.790922</td>\n",
              "      <td>1.028336</td>\n",
              "      <td>-0.606878</td>\n",
              "    </tr>\n",
              "    <tr>\n",
              "      <th>3</th>\n",
              "      <td>3</td>\n",
              "      <td>0</td>\n",
              "      <td>0.331781</td>\n",
              "      <td>-0.097753</td>\n",
              "      <td>0.688058</td>\n",
              "      <td>-0.891571</td>\n",
              "      <td>-1.174251</td>\n",
              "      <td>0.456710</td>\n",
              "      <td>0.476965</td>\n",
              "      <td>0.871684</td>\n",
              "      <td>-1.483795</td>\n",
              "      <td>1.041206</td>\n",
              "      <td>0.433230</td>\n",
              "      <td>0.839421</td>\n",
              "      <td>0.616190</td>\n",
              "      <td>-0.546545</td>\n",
              "      <td>-1.174251</td>\n",
              "      <td>-0.305743</td>\n",
              "      <td>-2.070172</td>\n",
              "      <td>3.029408</td>\n",
              "      <td>0.753648</td>\n",
              "      <td>-0.134622</td>\n",
              "    </tr>\n",
              "    <tr>\n",
              "      <th>4</th>\n",
              "      <td>4</td>\n",
              "      <td>1</td>\n",
              "      <td>0.479363</td>\n",
              "      <td>-1.203176</td>\n",
              "      <td>0.626816</td>\n",
              "      <td>1.004616</td>\n",
              "      <td>-2.579191</td>\n",
              "      <td>-0.837515</td>\n",
              "      <td>-0.914812</td>\n",
              "      <td>-0.525595</td>\n",
              "      <td>-0.966302</td>\n",
              "      <td>1.794843</td>\n",
              "      <td>0.791814</td>\n",
              "      <td>0.838663</td>\n",
              "      <td>-0.960843</td>\n",
              "      <td>0.915768</td>\n",
              "      <td>-2.579191</td>\n",
              "      <td>0.693270</td>\n",
              "      <td>-1.204904</td>\n",
              "      <td>0.938248</td>\n",
              "      <td>1.229826</td>\n",
              "      <td>-3.861164</td>\n",
              "    </tr>\n",
              "  </tbody>\n",
              "</table>\n",
              "</div>"
            ],
            "text/plain": [
              "   Unnamed: 0  label  feature_1  ...  feature_18  feature_19  feature_20\n",
              "0           0      1   0.595524  ...   -0.378226    0.665294   -0.706543\n",
              "1           1      0   0.414170  ...   -0.962637   -2.396815   -1.608863\n",
              "2           2      0  -1.384893  ...    1.790922    1.028336   -0.606878\n",
              "3           3      0   0.331781  ...    3.029408    0.753648   -0.134622\n",
              "4           4      1   0.479363  ...    0.938248    1.229826   -3.861164\n",
              "\n",
              "[5 rows x 22 columns]"
            ]
          },
          "metadata": {
            "tags": []
          },
          "execution_count": 5
        }
      ]
    },
    {
      "cell_type": "code",
      "metadata": {
        "id": "YQVhO4QJvFfD"
      },
      "source": [
        "df.drop(columns=\"Unnamed: 0\",inplace=True)"
      ],
      "execution_count": null,
      "outputs": []
    },
    {
      "cell_type": "markdown",
      "metadata": {
        "id": "LXnqhFlTdfOi"
      },
      "source": [
        "Since unnamed 0 isn't useful, we remove it."
      ]
    },
    {
      "cell_type": "markdown",
      "metadata": {
        "id": "YGCSLLGhZ55I"
      },
      "source": [
        "## 1.1 DATA VISUALIZATION"
      ]
    },
    {
      "cell_type": "code",
      "metadata": {
        "colab": {
          "base_uri": "https://localhost:8080/",
          "height": 728
        },
        "id": "Og4JpR9-vFfD",
        "outputId": "a6073cd6-03d6-474c-c15a-43ea4b5ff065"
      },
      "source": [
        "mask = np.zeros_like(df.corr())\n",
        "mask[np.triu_indices_from(mask)] = True\n",
        "\n",
        "plt.figure(figsize=(16, 11))\n",
        "ax = sns.heatmap(df.corr(), mask = mask, vmax=.3, annot=True, cmap=\"winter\")\n",
        "plt.title('Correlation Heatmap', fontsize=20,fontweight=\"bold\")"
      ],
      "execution_count": null,
      "outputs": [
        {
          "output_type": "execute_result",
          "data": {
            "text/plain": [
              "Text(0.5, 1.0, 'Correlation Heatmap')"
            ]
          },
          "metadata": {
            "tags": []
          },
          "execution_count": 7
        },
        {
          "output_type": "display_data",
          "data": {
            "image/png": "[encoded data removed]",
            "text/plain": [
              "<Figure size 1152x792 with 2 Axes>"
            ]
          },
          "metadata": {
            "tags": [],
            "needs_background": "light"
          }
        }
      ]
    },
    {
      "cell_type": "code",
      "metadata": {
        "colab": {
          "base_uri": "https://localhost:8080/",
          "height": 338
        },
        "id": "89GWidJqwopW",
        "outputId": "804f7473-52ee-4b16-c6e4-940ab38b80af"
      },
      "source": [
        "c=df['label'].value_counts()\n",
        "#se bilanciato usa accuracy per predizioni+ fai histogramma per valuecount\n",
        "c.plot(kind='barh',color='Turquoise',grid=True, xticks=range(0,800,50),figsize=(15,4))\n",
        "\n",
        "plt.title('Label', fontsize=20,fontweight=\"bold\")\n",
        "\n",
        "\n",
        "plt.show()\n",
        "\n",
        "print(c)"
      ],
      "execution_count": null,
      "outputs": [
        {
          "output_type": "display_data",
          "data": {
            "image/png": "[encoded data removed]",
            "text/plain": [
              "<Figure size 1080x288 with 1 Axes>"
            ]
          },
          "metadata": {
            "tags": [],
            "needs_background": "light"
          }
        },
        {
          "output_type": "stream",
          "text": [
            "0    707\n",
            "1    693\n",
            "Name: label, dtype: int64\n"
          ],
          "name": "stdout"
        }
      ]
    },
    {
      "cell_type": "code",
      "metadata": {
        "colab": {
          "base_uri": "https://localhost:8080/",
          "height": 910
        },
        "id": "G2gM281j0TlU",
        "outputId": "5a7cd244-fc83-478b-e6fe-e7ff1aa77cb1"
      },
      "source": [
        "df.drop(columns=\"label\").hist(figsize=(14, 14),bins=50,color=\"Turquoise\");\n",
        "plt.suptitle('Features Shape', fontsize=20,fontweight=\"bold\");\n"
      ],
      "execution_count": null,
      "outputs": [
        {
          "output_type": "display_data",
          "data": {
            "image/png": "[encoded data removed]",
            "text/plain": [
              "<Figure size 1008x1008 with 20 Axes>"
            ]
          },
          "metadata": {
            "tags": [],
            "needs_background": "light"
          }
        }
      ]
    },
    {
      "cell_type": "markdown",
      "metadata": {
        "id": "9zoqPQLTc5GG"
      },
      "source": [
        "From what we can see the features are distributed similar to a normal"
      ]
    },
    {
      "cell_type": "code",
      "metadata": {
        "colab": {
          "base_uri": "https://localhost:8080/",
          "height": 438
        },
        "id": "rSFgYrF0xLU2",
        "outputId": "91f8da1c-c784-49bd-8925-5dcdaf581546"
      },
      "source": [
        "df.boxplot(figsize=(13,6)).tick_params(labelrotation=90)\n",
        "plt.title('Boxplot', fontsize=17,fontweight=\"bold\");"
      ],
      "execution_count": null,
      "outputs": [
        {
          "output_type": "display_data",
          "data": {
            "image/png": "[encoded data removed]",
            "text/plain": [
              "<Figure size 936x432 with 1 Axes>"
            ]
          },
          "metadata": {
            "tags": [],
            "needs_background": "light"
          }
        }
      ]
    },
    {
      "cell_type": "code",
      "metadata": {
        "colab": {
          "base_uri": "https://localhost:8080/",
          "height": 100
        },
        "id": "DVCsgQdDx0Vc",
        "outputId": "632a68f2-8181-4c5e-9ee9-d7f5cb8fa788"
      },
      "source": [
        "df.loc[df['feature_15']>10]\n"
      ],
      "execution_count": null,
      "outputs": [
        {
          "output_type": "execute_result",
          "data": {
            "text/html": [
              "<div>\n",
              "<style scoped>\n",
              "    .dataframe tbody tr th:only-of-type {\n",
              "        vertical-align: middle;\n",
              "    }\n",
              "\n",
              "    .dataframe tbody tr th {\n",
              "        vertical-align: top;\n",
              "    }\n",
              "\n",
              "    .dataframe thead th {\n",
              "        text-align: right;\n",
              "    }\n",
              "</style>\n",
              "<table border=\"1\" class=\"dataframe\">\n",
              "  <thead>\n",
              "    <tr style=\"text-align: right;\">\n",
              "      <th></th>\n",
              "      <th>label</th>\n",
              "      <th>feature_1</th>\n",
              "      <th>feature_2</th>\n",
              "      <th>feature_3</th>\n",
              "      <th>feature_4</th>\n",
              "      <th>feature_5</th>\n",
              "      <th>feature_6</th>\n",
              "      <th>feature_7</th>\n",
              "      <th>feature_8</th>\n",
              "      <th>feature_9</th>\n",
              "      <th>feature_10</th>\n",
              "      <th>feature_11</th>\n",
              "      <th>feature_12</th>\n",
              "      <th>feature_13</th>\n",
              "      <th>feature_14</th>\n",
              "      <th>feature_15</th>\n",
              "      <th>feature_16</th>\n",
              "      <th>feature_17</th>\n",
              "      <th>feature_18</th>\n",
              "      <th>feature_19</th>\n",
              "      <th>feature_20</th>\n",
              "    </tr>\n",
              "  </thead>\n",
              "  <tbody>\n",
              "    <tr>\n",
              "      <th>999</th>\n",
              "      <td>0</td>\n",
              "      <td>3.588067</td>\n",
              "      <td>-1.815309</td>\n",
              "      <td>-5.152139</td>\n",
              "      <td>5.473931</td>\n",
              "      <td>11.098292</td>\n",
              "      <td>1.849058</td>\n",
              "      <td>0.815427</td>\n",
              "      <td>-0.331931</td>\n",
              "      <td>-0.047337</td>\n",
              "      <td>-2.497258</td>\n",
              "      <td>-1.204225</td>\n",
              "      <td>-0.031236</td>\n",
              "      <td>2.166088</td>\n",
              "      <td>0.545874</td>\n",
              "      <td>11.098292</td>\n",
              "      <td>1.071437</td>\n",
              "      <td>8.195007</td>\n",
              "      <td>1.821668</td>\n",
              "      <td>-2.821304</td>\n",
              "      <td>-0.216274</td>\n",
              "    </tr>\n",
              "  </tbody>\n",
              "</table>\n",
              "</div>"
            ],
            "text/plain": [
              "     label  feature_1  feature_2  ...  feature_18  feature_19  feature_20\n",
              "999      0   3.588067  -1.815309  ...    1.821668   -2.821304   -0.216274\n",
              "\n",
              "[1 rows x 21 columns]"
            ]
          },
          "metadata": {
            "tags": []
          },
          "execution_count": 11
        }
      ]
    },
    {
      "cell_type": "code",
      "metadata": {
        "colab": {
          "base_uri": "https://localhost:8080/",
          "height": 100
        },
        "id": "MTJg4ZytyoJe",
        "outputId": "a24dcf11-3306-4890-a4dc-a3b585ae3409"
      },
      "source": [
        "df.loc[df['feature_5']>10]"
      ],
      "execution_count": null,
      "outputs": [
        {
          "output_type": "execute_result",
          "data": {
            "text/html": [
              "<div>\n",
              "<style scoped>\n",
              "    .dataframe tbody tr th:only-of-type {\n",
              "        vertical-align: middle;\n",
              "    }\n",
              "\n",
              "    .dataframe tbody tr th {\n",
              "        vertical-align: top;\n",
              "    }\n",
              "\n",
              "    .dataframe thead th {\n",
              "        text-align: right;\n",
              "    }\n",
              "</style>\n",
              "<table border=\"1\" class=\"dataframe\">\n",
              "  <thead>\n",
              "    <tr style=\"text-align: right;\">\n",
              "      <th></th>\n",
              "      <th>label</th>\n",
              "      <th>feature_1</th>\n",
              "      <th>feature_2</th>\n",
              "      <th>feature_3</th>\n",
              "      <th>feature_4</th>\n",
              "      <th>feature_5</th>\n",
              "      <th>feature_6</th>\n",
              "      <th>feature_7</th>\n",
              "      <th>feature_8</th>\n",
              "      <th>feature_9</th>\n",
              "      <th>feature_10</th>\n",
              "      <th>feature_11</th>\n",
              "      <th>feature_12</th>\n",
              "      <th>feature_13</th>\n",
              "      <th>feature_14</th>\n",
              "      <th>feature_15</th>\n",
              "      <th>feature_16</th>\n",
              "      <th>feature_17</th>\n",
              "      <th>feature_18</th>\n",
              "      <th>feature_19</th>\n",
              "      <th>feature_20</th>\n",
              "    </tr>\n",
              "  </thead>\n",
              "  <tbody>\n",
              "    <tr>\n",
              "      <th>999</th>\n",
              "      <td>0</td>\n",
              "      <td>3.588067</td>\n",
              "      <td>-1.815309</td>\n",
              "      <td>-5.152139</td>\n",
              "      <td>5.473931</td>\n",
              "      <td>11.098292</td>\n",
              "      <td>1.849058</td>\n",
              "      <td>0.815427</td>\n",
              "      <td>-0.331931</td>\n",
              "      <td>-0.047337</td>\n",
              "      <td>-2.497258</td>\n",
              "      <td>-1.204225</td>\n",
              "      <td>-0.031236</td>\n",
              "      <td>2.166088</td>\n",
              "      <td>0.545874</td>\n",
              "      <td>11.098292</td>\n",
              "      <td>1.071437</td>\n",
              "      <td>8.195007</td>\n",
              "      <td>1.821668</td>\n",
              "      <td>-2.821304</td>\n",
              "      <td>-0.216274</td>\n",
              "    </tr>\n",
              "  </tbody>\n",
              "</table>\n",
              "</div>"
            ],
            "text/plain": [
              "     label  feature_1  feature_2  ...  feature_18  feature_19  feature_20\n",
              "999      0   3.588067  -1.815309  ...    1.821668   -2.821304   -0.216274\n",
              "\n",
              "[1 rows x 21 columns]"
            ]
          },
          "metadata": {
            "tags": []
          },
          "execution_count": 12
        }
      ]
    },
    {
      "cell_type": "code",
      "metadata": {
        "id": "7htEE8J5zA0c"
      },
      "source": [
        "df.drop(999, inplace=True)"
      ],
      "execution_count": null,
      "outputs": []
    },
    {
      "cell_type": "markdown",
      "metadata": {
        "id": "XYK3w6pry6lF"
      },
      "source": [
        "As we have seen is it only a cell so dropping it would not make the Dataset lose significant information"
      ]
    },
    {
      "cell_type": "code",
      "metadata": {
        "scrolled": true,
        "colab": {
          "base_uri": "https://localhost:8080/",
          "height": 314
        },
        "id": "WOV-gjkTvFfE",
        "outputId": "cea062a5-4862-472f-9442-61632e7431db"
      },
      "source": [
        "df.describe()"
      ],
      "execution_count": null,
      "outputs": [
        {
          "output_type": "execute_result",
          "data": {
            "text/html": [
              "<div>\n",
              "<style scoped>\n",
              "    .dataframe tbody tr th:only-of-type {\n",
              "        vertical-align: middle;\n",
              "    }\n",
              "\n",
              "    .dataframe tbody tr th {\n",
              "        vertical-align: top;\n",
              "    }\n",
              "\n",
              "    .dataframe thead th {\n",
              "        text-align: right;\n",
              "    }\n",
              "</style>\n",
              "<table border=\"1\" class=\"dataframe\">\n",
              "  <thead>\n",
              "    <tr style=\"text-align: right;\">\n",
              "      <th></th>\n",
              "      <th>label</th>\n",
              "      <th>feature_1</th>\n",
              "      <th>feature_2</th>\n",
              "      <th>feature_3</th>\n",
              "      <th>feature_4</th>\n",
              "      <th>feature_5</th>\n",
              "      <th>feature_6</th>\n",
              "      <th>feature_7</th>\n",
              "      <th>feature_8</th>\n",
              "      <th>feature_9</th>\n",
              "      <th>feature_10</th>\n",
              "      <th>feature_11</th>\n",
              "      <th>feature_12</th>\n",
              "      <th>feature_13</th>\n",
              "      <th>feature_14</th>\n",
              "      <th>feature_15</th>\n",
              "      <th>feature_16</th>\n",
              "      <th>feature_17</th>\n",
              "      <th>feature_18</th>\n",
              "      <th>feature_19</th>\n",
              "      <th>feature_20</th>\n",
              "    </tr>\n",
              "  </thead>\n",
              "  <tbody>\n",
              "    <tr>\n",
              "      <th>count</th>\n",
              "      <td>1399.000000</td>\n",
              "      <td>1399.000000</td>\n",
              "      <td>1399.000000</td>\n",
              "      <td>1399.000000</td>\n",
              "      <td>1399.000000</td>\n",
              "      <td>1399.000000</td>\n",
              "      <td>1399.000000</td>\n",
              "      <td>1399.000000</td>\n",
              "      <td>1399.000000</td>\n",
              "      <td>1399.000000</td>\n",
              "      <td>1399.000000</td>\n",
              "      <td>1399.000000</td>\n",
              "      <td>1399.000000</td>\n",
              "      <td>1399.000000</td>\n",
              "      <td>1399.000000</td>\n",
              "      <td>1399.000000</td>\n",
              "      <td>1399.000000</td>\n",
              "      <td>1399.000000</td>\n",
              "      <td>1399.000000</td>\n",
              "      <td>1399.000000</td>\n",
              "      <td>1399.000000</td>\n",
              "    </tr>\n",
              "    <tr>\n",
              "      <th>mean</th>\n",
              "      <td>0.495354</td>\n",
              "      <td>0.572389</td>\n",
              "      <td>-0.672805</td>\n",
              "      <td>-0.363417</td>\n",
              "      <td>0.583257</td>\n",
              "      <td>-0.189711</td>\n",
              "      <td>0.072540</td>\n",
              "      <td>0.081464</td>\n",
              "      <td>0.124413</td>\n",
              "      <td>0.065735</td>\n",
              "      <td>0.561122</td>\n",
              "      <td>0.116327</td>\n",
              "      <td>0.068929</td>\n",
              "      <td>-0.396362</td>\n",
              "      <td>0.097915</td>\n",
              "      <td>-0.189711</td>\n",
              "      <td>0.129339</td>\n",
              "      <td>0.009425</td>\n",
              "      <td>0.080399</td>\n",
              "      <td>0.428286</td>\n",
              "      <td>-1.331375</td>\n",
              "    </tr>\n",
              "    <tr>\n",
              "      <th>std</th>\n",
              "      <td>0.500157</td>\n",
              "      <td>1.425430</td>\n",
              "      <td>1.418475</td>\n",
              "      <td>1.729467</td>\n",
              "      <td>1.532405</td>\n",
              "      <td>2.110609</td>\n",
              "      <td>0.998872</td>\n",
              "      <td>1.022141</td>\n",
              "      <td>0.992823</td>\n",
              "      <td>0.976156</td>\n",
              "      <td>1.628327</td>\n",
              "      <td>1.007683</td>\n",
              "      <td>1.013743</td>\n",
              "      <td>1.442585</td>\n",
              "      <td>1.029413</td>\n",
              "      <td>2.110609</td>\n",
              "      <td>0.974768</td>\n",
              "      <td>2.575554</td>\n",
              "      <td>1.044210</td>\n",
              "      <td>1.323206</td>\n",
              "      <td>1.884318</td>\n",
              "    </tr>\n",
              "    <tr>\n",
              "      <th>min</th>\n",
              "      <td>0.000000</td>\n",
              "      <td>-4.850308</td>\n",
              "      <td>-4.501083</td>\n",
              "      <td>-4.840064</td>\n",
              "      <td>-5.915655</td>\n",
              "      <td>-7.395145</td>\n",
              "      <td>-3.305688</td>\n",
              "      <td>-3.542201</td>\n",
              "      <td>-2.851430</td>\n",
              "      <td>-2.943473</td>\n",
              "      <td>-7.142622</td>\n",
              "      <td>-3.042400</td>\n",
              "      <td>-3.029380</td>\n",
              "      <td>-3.638641</td>\n",
              "      <td>-3.396684</td>\n",
              "      <td>-7.395145</td>\n",
              "      <td>-3.532371</td>\n",
              "      <td>-9.819746</td>\n",
              "      <td>-3.317511</td>\n",
              "      <td>-6.414842</td>\n",
              "      <td>-7.104538</td>\n",
              "    </tr>\n",
              "    <tr>\n",
              "      <th>25%</th>\n",
              "      <td>0.000000</td>\n",
              "      <td>-0.381005</td>\n",
              "      <td>-1.522642</td>\n",
              "      <td>-1.483687</td>\n",
              "      <td>-0.290515</td>\n",
              "      <td>-1.554602</td>\n",
              "      <td>-0.591727</td>\n",
              "      <td>-0.619754</td>\n",
              "      <td>-0.555942</td>\n",
              "      <td>-0.594385</td>\n",
              "      <td>-0.462933</td>\n",
              "      <td>-0.557279</td>\n",
              "      <td>-0.625548</td>\n",
              "      <td>-1.369139</td>\n",
              "      <td>-0.622265</td>\n",
              "      <td>-1.554602</td>\n",
              "      <td>-0.494129</td>\n",
              "      <td>-1.443805</td>\n",
              "      <td>-0.617670</td>\n",
              "      <td>-0.411277</td>\n",
              "      <td>-2.693532</td>\n",
              "    </tr>\n",
              "    <tr>\n",
              "      <th>50%</th>\n",
              "      <td>0.000000</td>\n",
              "      <td>0.715443</td>\n",
              "      <td>-0.961742</td>\n",
              "      <td>-0.529802</td>\n",
              "      <td>0.718992</td>\n",
              "      <td>-0.258929</td>\n",
              "      <td>0.056931</td>\n",
              "      <td>0.111716</td>\n",
              "      <td>0.141818</td>\n",
              "      <td>0.089205</td>\n",
              "      <td>0.614371</td>\n",
              "      <td>0.134721</td>\n",
              "      <td>0.073200</td>\n",
              "      <td>-0.633204</td>\n",
              "      <td>0.168942</td>\n",
              "      <td>-0.258929</td>\n",
              "      <td>0.124050</td>\n",
              "      <td>0.617663</td>\n",
              "      <td>0.080563</td>\n",
              "      <td>0.587675</td>\n",
              "      <td>-1.459821</td>\n",
              "    </tr>\n",
              "    <tr>\n",
              "      <th>75%</th>\n",
              "      <td>1.000000</td>\n",
              "      <td>1.531719</td>\n",
              "      <td>0.029727</td>\n",
              "      <td>0.666758</td>\n",
              "      <td>1.589548</td>\n",
              "      <td>1.168802</td>\n",
              "      <td>0.774472</td>\n",
              "      <td>0.783309</td>\n",
              "      <td>0.798441</td>\n",
              "      <td>0.707180</td>\n",
              "      <td>1.626598</td>\n",
              "      <td>0.829079</td>\n",
              "      <td>0.755850</td>\n",
              "      <td>0.366812</td>\n",
              "      <td>0.822510</td>\n",
              "      <td>1.168802</td>\n",
              "      <td>0.773183</td>\n",
              "      <td>1.802162</td>\n",
              "      <td>0.780890</td>\n",
              "      <td>1.340524</td>\n",
              "      <td>-0.099274</td>\n",
              "    </tr>\n",
              "    <tr>\n",
              "      <th>max</th>\n",
              "      <td>1.000000</td>\n",
              "      <td>4.599007</td>\n",
              "      <td>6.054664</td>\n",
              "      <td>6.710736</td>\n",
              "      <td>6.007436</td>\n",
              "      <td>8.041808</td>\n",
              "      <td>3.632682</td>\n",
              "      <td>3.660634</td>\n",
              "      <td>3.563430</td>\n",
              "      <td>3.684965</td>\n",
              "      <td>6.161179</td>\n",
              "      <td>3.801416</td>\n",
              "      <td>3.523498</td>\n",
              "      <td>5.980039</td>\n",
              "      <td>3.232110</td>\n",
              "      <td>8.041808</td>\n",
              "      <td>2.996369</td>\n",
              "      <td>7.987946</td>\n",
              "      <td>3.546826</td>\n",
              "      <td>4.567432</td>\n",
              "      <td>7.863756</td>\n",
              "    </tr>\n",
              "  </tbody>\n",
              "</table>\n",
              "</div>"
            ],
            "text/plain": [
              "             label    feature_1  ...   feature_19   feature_20\n",
              "count  1399.000000  1399.000000  ...  1399.000000  1399.000000\n",
              "mean      0.495354     0.572389  ...     0.428286    -1.331375\n",
              "std       0.500157     1.425430  ...     1.323206     1.884318\n",
              "min       0.000000    -4.850308  ...    -6.414842    -7.104538\n",
              "25%       0.000000    -0.381005  ...    -0.411277    -2.693532\n",
              "50%       0.000000     0.715443  ...     0.587675    -1.459821\n",
              "75%       1.000000     1.531719  ...     1.340524    -0.099274\n",
              "max       1.000000     4.599007  ...     4.567432     7.863756\n",
              "\n",
              "[8 rows x 21 columns]"
            ]
          },
          "metadata": {
            "tags": []
          },
          "execution_count": 14
        }
      ]
    },
    {
      "cell_type": "code",
      "metadata": {
        "colab": {
          "base_uri": "https://localhost:8080/"
        },
        "id": "O23mRruLvFfF",
        "outputId": "50269282-8014-468d-e867-a5cb9d675676"
      },
      "source": [
        "df.corr()[\"label\"].sort_values(ascending=False)"
      ],
      "execution_count": null,
      "outputs": [
        {
          "output_type": "execute_result",
          "data": {
            "text/plain": [
              "label         1.000000\n",
              "feature_17    0.533671\n",
              "feature_4     0.347864\n",
              "feature_15    0.292472\n",
              "feature_5     0.292472\n",
              "feature_20    0.178071\n",
              "feature_9     0.027737\n",
              "feature_16    0.020293\n",
              "feature_6     0.003197\n",
              "feature_8    -0.000050\n",
              "feature_18   -0.000851\n",
              "feature_14   -0.002740\n",
              "feature_7    -0.008052\n",
              "feature_11   -0.014549\n",
              "feature_2    -0.017930\n",
              "feature_12   -0.045598\n",
              "feature_19   -0.124912\n",
              "feature_10   -0.279940\n",
              "feature_3    -0.316707\n",
              "feature_1    -0.319945\n",
              "feature_13   -0.340089\n",
              "Name: label, dtype: float64"
            ]
          },
          "metadata": {
            "tags": []
          },
          "execution_count": 15
        }
      ]
    },
    {
      "cell_type": "markdown",
      "metadata": {
        "id": "5RdXJ4xfcbyh"
      },
      "source": [
        "From what we can see some features are highly correlated while some others are really low we can consider to perform PCA"
      ]
    },
    {
      "cell_type": "markdown",
      "metadata": {
        "id": "Tmv03URtvFfF"
      },
      "source": [
        "# 2. BASIC MODELS"
      ]
    },
    {
      "cell_type": "code",
      "metadata": {
        "id": "0Uzjwok_vFfF"
      },
      "source": [
        "X = df.drop(df.columns[0],axis=1)\n",
        "y = df[\"label\"]\n",
        "X_train, X_test, y_train, y_test = train_test_split(X, y, test_size = 0.3, random_state = 42)"
      ],
      "execution_count": null,
      "outputs": []
    },
    {
      "cell_type": "markdown",
      "metadata": {
        "id": "LMOt_KN9aoRx"
      },
      "source": [
        "Now proceeding to do some preliminary tests, by using KNeighborsClassifier and LogisticRegression."
      ]
    },
    {
      "cell_type": "markdown",
      "metadata": {
        "id": "OMJa42ZOaPJw"
      },
      "source": [
        "## 2.1 KNN"
      ]
    },
    {
      "cell_type": "code",
      "metadata": {
        "id": "0slId2LrvFfF"
      },
      "source": [
        "neigh=KNeighborsClassifier()\n",
        "neigh.fit(X_train,y_train)\n",
        "first=neigh.predict(X_test)"
      ],
      "execution_count": null,
      "outputs": []
    },
    {
      "cell_type": "code",
      "metadata": {
        "colab": {
          "base_uri": "https://localhost:8080/"
        },
        "id": "DZwhkR8kvFfG",
        "outputId": "006c70a6-3e85-418e-9af7-2a70a07a6906"
      },
      "source": [
        "accuracy_first=accuracy_score(y_test,first)\n",
        "mse_first= mean_squared_error(y_test,first)\n",
        "f1=f1_score(y_test,first,average=\"binary\")\n",
        "roc=roc_auc_score(y_test,first)\n",
        "print(roc)\n",
        "print(f1)\n",
        "print(accuracy_first)\n"
      ],
      "execution_count": null,
      "outputs": [
        {
          "output_type": "stream",
          "text": [
            "0.888104038640332\n",
            "0.8883610451306412\n",
            "0.888095238095238\n"
          ],
          "name": "stdout"
        }
      ]
    },
    {
      "cell_type": "markdown",
      "metadata": {
        "id": "6QQcYltH2wgN"
      },
      "source": [
        "\n",
        "Since as we saw with data visualization the label are well balanced and also from this first results the three scores are really similar we will proceed by considering only the accuracy score"
      ]
    },
    {
      "cell_type": "markdown",
      "metadata": {
        "id": "Qqui9BwEvFfG"
      },
      "source": [
        "##2.2 LOGISTIC REGRESSION"
      ]
    },
    {
      "cell_type": "code",
      "metadata": {
        "scrolled": true,
        "colab": {
          "base_uri": "https://localhost:8080/"
        },
        "id": "owQpKQlgvFfG",
        "outputId": "687d924f-c589-498d-bf26-26fcbae7dc06"
      },
      "source": [
        "LR = LogisticRegression(random_state=0)\n",
        "LR.fit(X_train, y_train)\n",
        "second=LR.predict(X_test)\n",
        "\n",
        "accuracy_second=accuracy_score(second,y_test)\n",
        "print(accuracy_second)"
      ],
      "execution_count": null,
      "outputs": [
        {
          "output_type": "stream",
          "text": [
            "0.7714285714285715\n"
          ],
          "name": "stdout"
        }
      ]
    },
    {
      "cell_type": "markdown",
      "metadata": {
        "id": "nXdOO-XcvFfH"
      },
      "source": [
        "# 3 PCA"
      ]
    },
    {
      "cell_type": "markdown",
      "metadata": {
        "id": "FLeHg_qKbvh-"
      },
      "source": [
        "Since we saw that the correlation coefficient between features and labels are really high and other are really low we try to perform a PCA so to exclude some of the components without losing in overall accuracy."
      ]
    },
    {
      "cell_type": "code",
      "metadata": {
        "colab": {
          "base_uri": "https://localhost:8080/"
        },
        "id": "Nd6inpaOvFfH",
        "outputId": "a3c5bd28-ed3a-4919-b802-80fe2d445615"
      },
      "source": [
        "Scale = Normalizer()\n",
        "LRpip=Pipeline([('PCA',PCA()),('scaler',Scale),('model',LogisticRegression())])\n",
        "\n",
        "\n",
        "LRpip.fit(X_train,y_train)\n",
        "second=LRpip.predict(X_test)\n",
        "\n",
        "\n",
        "acc_LR=accuracy_score(second,y_test)\n",
        "print(acc_LR)"
      ],
      "execution_count": null,
      "outputs": [
        {
          "output_type": "stream",
          "text": [
            "0.7761904761904762\n"
          ],
          "name": "stdout"
        }
      ]
    },
    {
      "cell_type": "code",
      "metadata": {
        "colab": {
          "base_uri": "https://localhost:8080/"
        },
        "id": "3eYjfky58GEu",
        "outputId": "24335dcd-e208-466b-867d-d749fb9a1990"
      },
      "source": [
        "Scale = Normalizer()\n",
        "KNN_Pipeline=Pipeline([('PCA',PCA()),('scaler',Scale),('model',KNeighborsClassifier())])\n",
        "\n",
        "\n",
        "KNN_Pipeline.fit(X_train,y_train)\n",
        "second=KNN_Pipeline.predict(X_test)\n",
        "\n",
        "\n",
        "accuracy_second=accuracy_score(second,y_test)\n",
        "print(accuracy_second)"
      ],
      "execution_count": null,
      "outputs": [
        {
          "output_type": "stream",
          "text": [
            "0.861904761904762\n"
          ],
          "name": "stdout"
        }
      ]
    },
    {
      "cell_type": "markdown",
      "metadata": {
        "id": "YgkOioh0d9_C"
      },
      "source": [
        "As we can see both models work better with a Normalizer rather than with all other scalers tried(MinMax,Standard and Robust). We saw that without the PCA the LR was actually performing better. These two models were performing really well at the beginning and  not improving much with the PCA and the Scaler usage we will later perform a GridSearch to better the accuracy."
      ]
    },
    {
      "cell_type": "markdown",
      "metadata": {
        "id": "6bNzFFt4vFfI"
      },
      "source": [
        "# 4. EXTRA: RANDOM FOREST"
      ]
    },
    {
      "cell_type": "markdown",
      "metadata": {
        "id": "1GTl8g52d0UF"
      },
      "source": [
        "Since I was not really able yet to ameliorate my models I decided to add another one to the project."
      ]
    },
    {
      "cell_type": "code",
      "metadata": {
        "colab": {
          "base_uri": "https://localhost:8080/"
        },
        "id": "l0UtCzhdvFfI",
        "outputId": "f124e0b9-b2e9-4eec-abdf-42aa8043d35e"
      },
      "source": [
        "RF = RandomForestClassifier()\n",
        "RF.fit(X_train, y_train)\n",
        "third=RF.predict(X_test)\n",
        "\n",
        "accuracy_third=accuracy_score(third,y_test)\n",
        "\n",
        "print(accuracy_third)\n"
      ],
      "execution_count": null,
      "outputs": [
        {
          "output_type": "stream",
          "text": [
            "0.8976190476190476\n"
          ],
          "name": "stdout"
        }
      ]
    },
    {
      "cell_type": "code",
      "metadata": {
        "colab": {
          "base_uri": "https://localhost:8080/"
        },
        "id": "ZNkuSGAlMZ49",
        "outputId": "5127a155-c265-4bcd-cae6-f5fc945ba66b"
      },
      "source": [
        "Scale = Normalizer()\n",
        "RF_Pipeline=Pipeline([('PCA',PCA()),('scaler',Scale),('model',RandomForestClassifier())])\n",
        "\n",
        "\n",
        "RF_Pipeline.fit(X_train,y_train)\n",
        "second=RF_Pipeline.predict(X_test)\n",
        "\n",
        "\n",
        "accuracy_second=accuracy_score(second,y_test)\n",
        "print(accuracy_second)"
      ],
      "execution_count": null,
      "outputs": [
        {
          "output_type": "stream",
          "text": [
            "0.888095238095238\n"
          ],
          "name": "stdout"
        }
      ]
    },
    {
      "cell_type": "markdown",
      "metadata": {
        "id": "cPwgqH7_vFfL"
      },
      "source": [
        "# GRIDSEARCH\n"
      ]
    },
    {
      "cell_type": "markdown",
      "metadata": {
        "id": "vZ84NIHq4DaW"
      },
      "source": [
        "These are the final versions of the gridsearch and they are obtained after many trials in trying to improve the model, so that is why the research may look narrow at first sight."
      ]
    },
    {
      "cell_type": "code",
      "metadata": {
        "scrolled": true,
        "colab": {
          "base_uri": "https://localhost:8080/"
        },
        "id": "5Ow0KQLSvFfM",
        "outputId": "401a600a-32ec-4970-bc00-281d830a1e26"
      },
      "source": [
        "\n",
        "parameters = {'model__n_neighbors' : range(11,20,2), 'model__p': range(1,3),'model__weights':['uniform','distance'],'PCA__n_components':range(3,10),'model__algorithm':['auto'],'model__metric':['minkowski']}\n",
        "n_components, svd_solver\n",
        "\n",
        "clf = GridSearchCV(KNN_Pipeline, parameters, scoring='accuracy' ,cv=10)\n",
        "\n",
        "clf.fit(X_train,y_train)\n",
        "\n",
        "clf.best_params_"
      ],
      "execution_count": null,
      "outputs": [
        {
          "output_type": "execute_result",
          "data": {
            "text/plain": [
              "{'PCA__n_components': 5,\n",
              " 'model__algorithm': 'auto',\n",
              " 'model__metric': 'minkowski',\n",
              " 'model__n_neighbors': 15,\n",
              " 'model__p': 1,\n",
              " 'model__weights': 'uniform'}"
            ]
          },
          "metadata": {
            "tags": []
          },
          "execution_count": 31
        }
      ]
    },
    {
      "cell_type": "code",
      "metadata": {
        "id": "1wQFp3XkvFfM"
      },
      "source": [
        "KNN_Pipeline_Tuned=Pipeline([('PCA',PCA(n_components=5)),('scaler',Scale),('model',KNeighborsClassifier(n_neighbors=15,algorithm='auto',p=1,weights='uniform',metric='minkowski'))])"
      ],
      "execution_count": null,
      "outputs": []
    },
    {
      "cell_type": "code",
      "metadata": {
        "colab": {
          "base_uri": "https://localhost:8080/"
        },
        "id": "RFkoIWn9vFfM",
        "outputId": "4abf6695-17f0-49c3-abde-f12c46f0c270"
      },
      "source": [
        "KNN_Pipeline_Tuned.fit(X_train,y_train)\n",
        "second=KNN_Pipeline_Tuned.predict(X_test)\n",
        "\n",
        "\n",
        "accuracy_second=accuracy_score(second,y_test)\n",
        "print(accuracy_second)"
      ],
      "execution_count": null,
      "outputs": [
        {
          "output_type": "stream",
          "text": [
            "0.8952380952380953\n"
          ],
          "name": "stdout"
        }
      ]
    },
    {
      "cell_type": "code",
      "metadata": {
        "colab": {
          "base_uri": "https://localhost:8080/"
        },
        "id": "zBCgu7zKKIeX",
        "outputId": "6a026136-8b82-4e44-a381-218f8378d147"
      },
      "source": [
        "parameters = {'model__C':np.arange(0.2,1.4,0.2),'model__penalty': ['l2','elasticnet'],'model__solver':['newton-cg', 'liblinear'],'PCA__n_components':range(3,10),'PCA__svd_solver':['auto', 'full', 'arpack', 'randomized']}\n",
        "\n",
        "\n",
        "\n",
        "clf = GridSearchCV(LR_Pipeline, parameters, scoring='accuracy' ,cv=10)\n",
        "\n",
        "clf.fit(X_train,y_train)\n",
        "\n",
        "clf.best_params_"
      ],
      "execution_count": null,
      "outputs": [
        {
          "output_type": "execute_result",
          "data": {
            "text/plain": [
              "{'model__C': 0.20000000000000004,\n",
              " 'model__penalty': 'l2',\n",
              " 'model__solver': 'liblinear'}"
            ]
          },
          "metadata": {
            "tags": []
          },
          "execution_count": 35
        }
      ]
    },
    {
      "cell_type": "code",
      "metadata": {
        "id": "pgqZlv1BBSvO"
      },
      "source": [
        "LR_Pipeline_Tuned=Pipeline([('PCA',PCA(n_components=10,svd_solve=\"full\")),('scaler',Scale),('model',LogisticRegression(C=0.2,penalty='l2',solver='newton-cg'))])"
      ],
      "execution_count": null,
      "outputs": []
    },
    {
      "cell_type": "code",
      "metadata": {
        "colab": {
          "base_uri": "https://localhost:8080/"
        },
        "id": "-WY2LA1dEL7T",
        "outputId": "338e6150-f7cb-4e6a-a1ca-7c123415524a"
      },
      "source": [
        "LR_Pipeline_Tuned.fit(X_train,y_train)\n",
        "second=LR_Pipeline_Tuned.predict(X_test)\n",
        "\n",
        "\n",
        "accuracy_second=accuracy_score(second,y_test)\n",
        "print(accuracy_second)"
      ],
      "execution_count": null,
      "outputs": [
        {
          "output_type": "stream",
          "text": [
            "0.7857142857142857\n"
          ],
          "name": "stdout"
        }
      ]
    },
    {
      "cell_type": "code",
      "metadata": {
        "colab": {
          "base_uri": "https://localhost:8080/"
        },
        "id": "7iNa6UEAvFfN",
        "outputId": "e75107fe-00b5-43fd-c440-6d54c83f9556"
      },
      "source": [
        "parameters = {'model__n_estimators':range(300,350,10),'model__max_depth':range(8,11),'PCA__n_components':range(4,9)};\n",
        "\n",
        "\n",
        "clf = GridSearchCV(RF_Pipeline, parameters, scoring='accuracy' ,cv=5)\n",
        "\n",
        "clf.fit(X_train,y_train)\n",
        "\n",
        "clf.best_params_"
      ],
      "execution_count": null,
      "outputs": [
        {
          "output_type": "execute_result",
          "data": {
            "text/plain": [
              "{'PCA__n_components': 6, 'model__max_depth': 10, 'model__n_estimators': 320}"
            ]
          },
          "metadata": {
            "tags": []
          },
          "execution_count": 63
        }
      ]
    },
    {
      "cell_type": "code",
      "metadata": {
        "id": "Q6rau4TZQqdi"
      },
      "source": [
        "RF_Pipeline_Tuned=Pipeline([('PCA',PCA(n_components=6)),('scaler',Scale),('model', RandomForestClassifier(max_depth=10 ,n_estimators=320))])"
      ],
      "execution_count": null,
      "outputs": []
    },
    {
      "cell_type": "code",
      "metadata": {
        "colab": {
          "base_uri": "https://localhost:8080/"
        },
        "id": "8UYjFcqFTkO9",
        "outputId": "0933b9d7-6269-4db8-f7ab-695ad433456c"
      },
      "source": [
        "RF_Pipeline_Tuned.fit(X_train,y_train)\n",
        "second=RF_Pipeline_Tuned.predict(X_test)\n",
        "\n",
        "\n",
        "accuracy_second=accuracy_score(second,y_test)\n",
        "print(accuracy_second)"
      ],
      "execution_count": null,
      "outputs": [
        {
          "output_type": "stream",
          "text": [
            "0.9047619047619048\n"
          ],
          "name": "stdout"
        }
      ]
    },
    {
      "cell_type": "markdown",
      "metadata": {
        "id": "6bhbatFt3niF"
      },
      "source": [
        "With the gridsearch all the three accuracies are improving a little bit."
      ]
    },
    {
      "cell_type": "markdown",
      "metadata": {
        "id": "4jnoXYlG_ZMz"
      },
      "source": [
        "# 6. VOTING CLASSIFIER"
      ]
    },
    {
      "cell_type": "markdown",
      "metadata": {
        "id": "zmHZ-n17ed2h"
      },
      "source": [
        "Lastly I wanted to try to give a final push in the performance by letting these three models cooperate in a unique ensemble model."
      ]
    },
    {
      "cell_type": "code",
      "metadata": {
        "colab": {
          "base_uri": "https://localhost:8080/"
        },
        "id": "pGfLxQedUdGm",
        "outputId": "3189770e-1e49-420a-d04a-897e1ae2cc17"
      },
      "source": [
        "estimators=[('rf',RF_Pipeline_Tuned),('knn',KNN_Pipeline_Tuned),('lr',LR_Pipeline_Tuned)]\n",
        "\n",
        "VC=VotingClassifier(estimators)\n",
        "VC.fit(X_train, y_train)\n",
        "third=VC.predict(X_test)\n",
        "\n",
        "accuracy_third=accuracy_score(third,y_test)\n",
        "\n",
        "print(accuracy_third)"
      ],
      "execution_count": null,
      "outputs": [
        {
          "output_type": "stream",
          "text": [
            "0.8952380952380953\n"
          ],
          "name": "stdout"
        }
      ]
    },
    {
      "cell_type": "code",
      "metadata": {
        "colab": {
          "base_uri": "https://localhost:8080/"
        },
        "id": "I0dtJzv4w3I7",
        "outputId": "cd7526bc-b7a1-4fad-f988-59b4d483d13d"
      },
      "source": [
        "SC=StackingClassifier(estimators,cv=5)\n",
        "SC.fit(X_train, y_train)\n",
        "third=SC.predict(X_test)\n",
        "\n",
        "accuracy_third=accuracy_score(third,y_test)\n",
        "\n",
        "print(accuracy_third)"
      ],
      "execution_count": null,
      "outputs": [
        {
          "output_type": "stream",
          "text": [
            "0.9023809523809524\n"
          ],
          "name": "stdout"
        }
      ]
    },
    {
      "cell_type": "markdown",
      "metadata": {
        "id": "iVNHLiLoyHWN"
      },
      "source": [
        "Also by taking one of the estimators out the results of the ensembling doesn’t change."
      ]
    },
    {
      "cell_type": "markdown",
      "metadata": {
        "id": "3Y28wW4UetOb"
      },
      "source": [
        "# 7. CONCLUSION"
      ]
    },
    {
      "cell_type": "markdown",
      "metadata": {
        "id": "7WfFdZpEp-ED"
      },
      "source": [
        "I did not quite manage to improve the scores a lot, indeed all the final results that I got are not  far from what I got at the beginning. Once noticed this I decided to implement at the end a RandomForest, as it’s a strong algorithm with generally good performance and it revealed to be so even if it didn't improve much after tuning the parameters.\n",
        "Overall I am really pleased with the results got at the end since they have great accuracy so I could not require them to be much higher otherwise I could have gotten into overfitting problems."
      ]
    }
  ]
}